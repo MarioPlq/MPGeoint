{
 "cells": [
  {
   "cell_type": "markdown",
   "metadata": {},
   "source": [
    "# Setup"
   ]
  },
  {
   "cell_type": "code",
   "execution_count": 1,
   "metadata": {
    "ExecuteTime": {
     "end_time": "2023-07-28T22:35:15.803675Z",
     "start_time": "2023-07-28T22:35:15.423113Z"
    }
   },
   "outputs": [],
   "source": [
    "import overpy\n",
    "from satImgRecovery import getSatImg"
   ]
  },
  {
   "cell_type": "code",
   "execution_count": 2,
   "metadata": {
    "ExecuteTime": {
     "end_time": "2023-07-28T22:35:15.820225Z",
     "start_time": "2023-07-28T22:35:15.804579Z"
    }
   },
   "outputs": [],
   "source": [
    "#!pip install jupyter_contrib_nbextensions\n",
    "#!jupyter contrib nbextension install --user\n",
    "#!jupyter nbextension enable varInspector/main\n",
    "\n",
    "# https://overpass-turbo.eu/\n",
    "# https://wiki.openstreetmap.org/wiki/Overpass_API/Overpass_QL#Union\n",
    "\n",
    "# https://wiki.openstreetmap.org/wiki/Map_features\n",
    "# https://python-overpy.readthedocs.io/en/latest/example.html\n",
    "\n",
    "# detect change on sentinel"
   ]
  },
  {
   "cell_type": "markdown",
   "metadata": {},
   "source": [
    "# Request example"
   ]
  },
  {
   "cell_type": "markdown",
   "metadata": {},
   "source": [
    "## FIND_IN_ONE_REGION_what"
   ]
  },
  {
   "cell_type": "code",
   "execution_count": 3,
   "metadata": {
    "ExecuteTime": {
     "end_time": "2023-07-28T22:35:15.839775Z",
     "start_time": "2023-07-28T22:35:15.823137Z"
    }
   },
   "outputs": [
    {
     "name": "stdout",
     "output_type": "stream",
     "text": [
      "\n",
      "\n",
      "[out:json][timeout:25];\n",
      "area[\"ISO3166-2\"=\"UA-09\"]->.a;\n",
      "(\n",
      "    nwr[man_made=water_tower](area.a);\n",
      ");\n",
      "out;\n",
      "    \n",
      "\n"
     ]
    }
   ],
   "source": [
    "# https://fr.wikipedia.org/wiki/ISO_3166-1\n",
    "region1 = '\"ISO3166-2\"=\"UA-09\"'\n",
    "\n",
    "what = 'man_made=water_tower'\n",
    "\n",
    "query = f\"\"\"\n",
    "\n",
    "[out:json][timeout:25];\n",
    "area[{region1}]->.a;\n",
    "(\n",
    "    nwr[{what}](area.a);\n",
    ");\n",
    "out;\n",
    "    \n",
    "\"\"\"\n",
    "      \n",
    "print(query)"
   ]
  },
  {
   "cell_type": "markdown",
   "metadata": {},
   "source": [
    "## FIND_IN_TWO_REGION_what"
   ]
  },
  {
   "cell_type": "code",
   "execution_count": 4,
   "metadata": {
    "ExecuteTime": {
     "end_time": "2023-07-28T22:35:15.855314Z",
     "start_time": "2023-07-28T22:35:15.841777Z"
    }
   },
   "outputs": [
    {
     "name": "stdout",
     "output_type": "stream",
     "text": [
      "\n",
      "\n",
      "[out:json][timeout:25];\n",
      "area[\"ISO3166-2\"=\"UA-14\"]->.a;\n",
      "area[\"ISO3166-2\"=\"UA-23\"]->.b;\n",
      "(\n",
      "    nwr[man_made=water_tower](area.a);\n",
      "    nwr[man_made=water_tower](area.b);\n",
      ");\n",
      "out;\n",
      "    \n",
      "\n"
     ]
    }
   ],
   "source": [
    "# https://fr.wikipedia.org/wiki/ISO_3166-1\n",
    "region1 = '\"ISO3166-2\"=\"UA-14\"'\n",
    "region2 = '\"ISO3166-2\"=\"UA-23\"'\n",
    "\n",
    "what = 'man_made=water_tower'\n",
    "\n",
    "query = f\"\"\"\n",
    "\n",
    "[out:json][timeout:25];\n",
    "area[{region1}]->.a;\n",
    "area[{region2}]->.b;\n",
    "(\n",
    "    nwr[{what}](area.a);\n",
    "    nwr[{what}](area.b);\n",
    ");\n",
    "out;\n",
    "    \n",
    "\"\"\"\n",
    "      \n",
    "print(query)"
   ]
  },
  {
   "cell_type": "markdown",
   "metadata": {},
   "source": [
    "## FIND_IN_TWO_REGION_what_around_what2"
   ]
  },
  {
   "cell_type": "code",
   "execution_count": 5,
   "metadata": {
    "ExecuteTime": {
     "end_time": "2023-07-28T22:35:15.875751Z",
     "start_time": "2023-07-28T22:35:15.857309Z"
    }
   },
   "outputs": [
    {
     "name": "stdout",
     "output_type": "stream",
     "text": [
      "\n",
      "\n",
      "[out:json][timeout:25];\n",
      "\n",
      "area[\"ISO3166-2\"=\"UA-14\"]->.a;\n",
      "area[\"ISO3166-2\"=\"UA-23\"]->.b;\n",
      "\n",
      "(\n",
      "  nwr(area.a)[natural=tree_row];\n",
      "  nwr(area.b)[natural=tree_row];\n",
      ")->.find_obj;\n",
      "(._;>;);\n",
      "\n",
      "(\n",
      "  nwr[man_made=water_tower](around.find_obj:1000);\n",
      "  nwr[man_made=water_tower](around.find_obj:1000);\n",
      ");\n",
      "\n",
      "out;\n",
      "\n",
      "\n"
     ]
    }
   ],
   "source": [
    "# https://fr.wikipedia.org/wiki/ISO_3166-1\n",
    "region1 = '\"ISO3166-2\"=\"UA-14\"'\n",
    "region2 = '\"ISO3166-2\"=\"UA-23\"'\n",
    "\n",
    "around_what = 'natural=tree_row'\n",
    "what = 'man_made=water_tower'\n",
    "around = 1000\n",
    "\n",
    "query = f\"\"\"\n",
    "\n",
    "[out:json][timeout:25];\n",
    "\n",
    "area[{region1}]->.a;\n",
    "area[{region2}]->.b;\n",
    "\n",
    "(\n",
    "  nwr(area.a)[{around_what}];\n",
    "  nwr(area.b)[{around_what}];\n",
    ")->.find_obj;\n",
    "(._;>;);\n",
    "\n",
    "(\n",
    "  nwr[{what}](around.find_obj:{around});\n",
    "  nwr[{what}](around.find_obj:{around});\n",
    ");\n",
    "\n",
    "out;\n",
    "\n",
    "\"\"\"\n",
    "\n",
    "print(query)"
   ]
  },
  {
   "cell_type": "markdown",
   "metadata": {},
   "source": [
    "## FIND_what_AROUND_LATLON"
   ]
  },
  {
   "cell_type": "code",
   "execution_count": 6,
   "metadata": {
    "ExecuteTime": {
     "end_time": "2023-07-28T22:35:15.890638Z",
     "start_time": "2023-07-28T22:35:15.877747Z"
    }
   },
   "outputs": [
    {
     "name": "stdout",
     "output_type": "stream",
     "text": [
      "\n",
      "\n",
      "[out:json][timeout:25];\n",
      "\n",
      "(\n",
      "  nwr[\"historic\"=\"memorial\"](around:1000, 47.211584, 38.918579);  \n",
      ");\n",
      "\n",
      "out body;\n",
      ">;\n",
      "out skel qt;\n",
      "\n"
     ]
    }
   ],
   "source": [
    "lat = 47.211584\n",
    "lon = 38.918579\n",
    "around = 1000\n",
    "\n",
    "what = '\"historic\"=\"memorial\"'\n",
    "\n",
    "query = f\"\"\"\n",
    "\n",
    "[out:json][timeout:25];\n",
    "\n",
    "(\n",
    "  nwr[{what}](around:{around}, {lat}, {lon});  \n",
    ");\n",
    "\n",
    "out body;\n",
    ">;\n",
    "out skel qt;\n",
    "\"\"\"\n",
    "\n",
    "print(query)"
   ]
  },
  {
   "cell_type": "markdown",
   "metadata": {},
   "source": [
    "## FIND_what_around_what2_around_LATLON"
   ]
  },
  {
   "cell_type": "code",
   "execution_count": 7,
   "metadata": {
    "ExecuteTime": {
     "end_time": "2023-07-28T22:35:15.905625Z",
     "start_time": "2023-07-28T22:35:15.891632Z"
    }
   },
   "outputs": [
    {
     "name": "stdout",
     "output_type": "stream",
     "text": [
      "\n",
      "\n",
      "[out:json][timeout:25];\n",
      "\n",
      "(\n",
      "  nwr[\"public_transport\"=\"stop_position\"](around:1000, 47.211584, 38.918579);  \n",
      ")->.find_obj;\n",
      "(._;>;);\n",
      "\n",
      "(\n",
      "  nwr[\"historic\"=\"memorial\"](around.find_obj:200);  \n",
      ");\n",
      "\n",
      "out body;\n",
      ">;\n",
      "out skel qt;\n",
      "\n"
     ]
    }
   ],
   "source": [
    "lat = 47.211584\n",
    "lon = 38.918579\n",
    "around = 1000\n",
    "around_what2 = 200\n",
    "\n",
    "what2 = '\"public_transport\"=\"stop_position\"'\n",
    "what = '\"historic\"=\"memorial\"'\n",
    "\n",
    "query = f\"\"\"\n",
    "\n",
    "[out:json][timeout:25];\n",
    "\n",
    "(\n",
    "  nwr[{what2}](around:{around}, {lat}, {lon});  \n",
    ")->.find_obj;\n",
    "(._;>;);\n",
    "\n",
    "(\n",
    "  nwr[{what}](around.find_obj:{around_what2});  \n",
    ");\n",
    "\n",
    "out body;\n",
    ">;\n",
    "out skel qt;\n",
    "\"\"\"\n",
    "\n",
    "print(query)"
   ]
  },
  {
   "cell_type": "markdown",
   "metadata": {},
   "source": [
    "# Final"
   ]
  },
  {
   "cell_type": "markdown",
   "metadata": {},
   "source": [
    "## Find with Overpass"
   ]
  },
  {
   "cell_type": "code",
   "execution_count": 8,
   "metadata": {
    "ExecuteTime": {
     "end_time": "2023-07-28T22:35:15.910482Z",
     "start_time": "2023-07-28T22:35:15.906622Z"
    }
   },
   "outputs": [],
   "source": [
    "api = overpy.Overpass()"
   ]
  },
  {
   "cell_type": "code",
   "execution_count": 9,
   "metadata": {
    "ExecuteTime": {
     "end_time": "2023-07-28T22:35:15.925748Z",
     "start_time": "2023-07-28T22:35:15.910482Z"
    }
   },
   "outputs": [],
   "source": [
    "request = query"
   ]
  },
  {
   "cell_type": "code",
   "execution_count": 10,
   "metadata": {
    "ExecuteTime": {
     "end_time": "2023-07-28T22:35:16.186922Z",
     "start_time": "2023-07-28T22:35:15.926762Z"
    }
   },
   "outputs": [
    {
     "data": {
      "text/plain": [
       "5"
      ]
     },
     "execution_count": 10,
     "metadata": {},
     "output_type": "execute_result"
    }
   ],
   "source": [
    "around = api.query(request)\n",
    "len(around.nodes)"
   ]
  },
  {
   "cell_type": "markdown",
   "metadata": {},
   "source": [
    "## Stock lat, lon"
   ]
  },
  {
   "cell_type": "code",
   "execution_count": 11,
   "metadata": {
    "ExecuteTime": {
     "end_time": "2023-07-28T22:35:16.195689Z",
     "start_time": "2023-07-28T22:35:16.188927Z"
    }
   },
   "outputs": [],
   "source": [
    "coords = []\n",
    "\n",
    "for node in around.nodes: \n",
    "    # you can add constraints here\n",
    "    coords.append((float(node.lat), float(node.lon)))"
   ]
  },
  {
   "cell_type": "code",
   "execution_count": 12,
   "metadata": {
    "ExecuteTime": {
     "end_time": "2023-07-28T22:35:16.224912Z",
     "start_time": "2023-07-28T22:35:16.196194Z"
    }
   },
   "outputs": [
    {
     "data": {
      "text/plain": [
       "[(47.2164513, 38.9223681),\n",
       " (47.2151646, 38.9224443),\n",
       " (47.2156037, 38.9281856),\n",
       " (47.2176154, 38.9261381),\n",
       " (47.2155376, 38.9285204)]"
      ]
     },
     "execution_count": 12,
     "metadata": {},
     "output_type": "execute_result"
    }
   ],
   "source": [
    "coords"
   ]
  },
  {
   "cell_type": "markdown",
   "metadata": {
    "ExecuteTime": {
     "end_time": "2023-07-28T21:51:34.298140Z",
     "start_time": "2023-07-28T21:51:34.281919Z"
    }
   },
   "source": [
    "## Get the google sat img of the coordinates"
   ]
  },
  {
   "cell_type": "code",
   "execution_count": 13,
   "metadata": {
    "ExecuteTime": {
     "end_time": "2023-07-28T22:35:39.705892Z",
     "start_time": "2023-07-28T22:35:16.225935Z"
    },
    "scrolled": true
   },
   "outputs": [
    {
     "name": "stdout",
     "output_type": "stream",
     "text": [
      "Saved as 47.2164513_38.9223681.png\n",
      "Saved as 47.2151646_38.9224443.png\n",
      "Saved as 47.2156037_38.9281856.png\n",
      "Saved as 47.2176154_38.9261381.png\n",
      "Saved as 47.2155376_38.9285204.png\n"
     ]
    }
   ],
   "source": [
    "zoom = 20\n",
    "square = 600\n",
    "\n",
    "for coord in coords:\n",
    "    lat = coord[0]\n",
    "    lon = coord[1]\n",
    "    getSatImg(lat, lon, square=square, zoom=zoom, plot_center=True)"
   ]
  },
  {
   "cell_type": "code",
   "execution_count": 14,
   "metadata": {
    "ExecuteTime": {
     "end_time": "2023-07-28T22:35:39.836395Z",
     "start_time": "2023-07-28T22:35:39.705892Z"
    }
   },
   "outputs": [
    {
     "name": "stdout",
     "output_type": "stream",
     "text": [
      "Saved as 47.483607_35.813966.png\n"
     ]
    }
   ],
   "source": [
    "lat, lon = 47.483607, 35.813966\n",
    "getSatImg(lat, lon, square=100, zoom=18, plot_center=False)"
   ]
  },
  {
   "cell_type": "code",
   "execution_count": null,
   "metadata": {},
   "outputs": [],
   "source": []
  }
 ],
 "metadata": {
  "hide_input": false,
  "kernelspec": {
   "display_name": "Python 3",
   "language": "python",
   "name": "python3"
  },
  "language_info": {
   "codemirror_mode": {
    "name": "ipython",
    "version": 3
   },
   "file_extension": ".py",
   "mimetype": "text/x-python",
   "name": "python",
   "nbconvert_exporter": "python",
   "pygments_lexer": "ipython3",
   "version": "3.8.5"
  },
  "nbTranslate": {
   "displayLangs": [
    "*"
   ],
   "hotkey": "alt-t",
   "langInMainMenu": true,
   "sourceLang": "en",
   "targetLang": "fr",
   "useGoogleTranslate": true
  },
  "toc": {
   "base_numbering": 1,
   "nav_menu": {},
   "number_sections": true,
   "sideBar": true,
   "skip_h1_title": false,
   "title_cell": "Table of Contents",
   "title_sidebar": "Contents",
   "toc_cell": false,
   "toc_position": {
    "height": "calc(100% - 180px)",
    "left": "10px",
    "top": "150px",
    "width": "370.225px"
   },
   "toc_section_display": true,
   "toc_window_display": true
  },
  "varInspector": {
   "cols": {
    "lenName": 16,
    "lenType": 16,
    "lenVar": 40
   },
   "kernels_config": {
    "python": {
     "delete_cmd_postfix": "",
     "delete_cmd_prefix": "del ",
     "library": "var_list.py",
     "varRefreshCmd": "print(var_dic_list())"
    },
    "r": {
     "delete_cmd_postfix": ") ",
     "delete_cmd_prefix": "rm(",
     "library": "var_list.r",
     "varRefreshCmd": "cat(var_dic_list()) "
    }
   },
   "types_to_exclude": [
    "module",
    "function",
    "builtin_function_or_method",
    "instance",
    "_Feature"
   ],
   "window_display": false
  }
 },
 "nbformat": 4,
 "nbformat_minor": 4
}
